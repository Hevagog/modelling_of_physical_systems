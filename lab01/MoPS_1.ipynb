{
  "cells": [
    {
      "cell_type": "code",
      "execution_count": null,
      "metadata": {
        "colab": {
          "base_uri": "https://localhost:8080/"
        },
        "id": "1SKR3KnT7ue8",
        "outputId": "634dc20e-99f5-4a04-ee00-afe0ab11d1b3"
      },
      "outputs": [
        {
          "name": "stdout",
          "output_type": "stream",
          "text": [
            "Collecting pint\n",
            "  Downloading Pint-0.24.4-py3-none-any.whl.metadata (8.5 kB)\n",
            "Requirement already satisfied: platformdirs>=2.1.0 in /usr/local/lib/python3.11/dist-packages (from pint) (4.3.6)\n",
            "Requirement already satisfied: typing-extensions>=4.0.0 in /usr/local/lib/python3.11/dist-packages (from pint) (4.12.2)\n",
            "Collecting flexcache>=0.3 (from pint)\n",
            "  Downloading flexcache-0.3-py3-none-any.whl.metadata (7.0 kB)\n",
            "Collecting flexparser>=0.4 (from pint)\n",
            "  Downloading flexparser-0.4-py3-none-any.whl.metadata (18 kB)\n",
            "Downloading Pint-0.24.4-py3-none-any.whl (302 kB)\n",
            "\u001b[2K   \u001b[90m━━━━━━━━━━━━━━━━━━━━━━━━━━━━━━━━━━━━━━━━\u001b[0m \u001b[32m302.0/302.0 kB\u001b[0m \u001b[31m9.3 MB/s\u001b[0m eta \u001b[36m0:00:00\u001b[0m\n",
            "\u001b[?25hDownloading flexcache-0.3-py3-none-any.whl (13 kB)\n",
            "Downloading flexparser-0.4-py3-none-any.whl (27 kB)\n",
            "Installing collected packages: flexparser, flexcache, pint\n",
            "Successfully installed flexcache-0.3 flexparser-0.4 pint-0.24.4\n"
          ]
        }
      ],
      "source": [
        "!pip install pint"
      ]
    },
    {
      "cell_type": "code",
      "execution_count": null,
      "metadata": {
        "id": "oL5lk4rA76z_"
      },
      "outputs": [],
      "source": [
        "import pint"
      ]
    },
    {
      "cell_type": "code",
      "execution_count": null,
      "metadata": {
        "id": "C0cA-rUJ8ZcD"
      },
      "outputs": [],
      "source": [
        "si = pint.UnitRegistry()"
      ]
    },
    {
      "cell_type": "code",
      "execution_count": null,
      "metadata": {
        "colab": {
          "base_uri": "https://localhost:8080/",
          "height": 34
        },
        "id": "DoAbuEYF83hk",
        "outputId": "5591e0be-5d6f-4d40-faf6-b262a94aae16"
      },
      "outputs": [
        {
          "data": {
            "text/html": [
              "300 kelvin"
            ],
            "text/latex": [
              "$300\\ \\mathrm{kelvin}$"
            ],
            "text/plain": [
              "<Quantity(300, 'kelvin')>"
            ]
          },
          "execution_count": 54,
          "metadata": {},
          "output_type": "execute_result"
        }
      ],
      "source": [
        "T = 300 *si.K\n",
        "T"
      ]
    },
    {
      "cell_type": "code",
      "execution_count": null,
      "metadata": {
        "colab": {
          "base_uri": "https://localhost:8080/",
          "height": 34
        },
        "id": "g6iEVVaf9KU1",
        "outputId": "148bed2e-1be1-4232-9142-0ed08cc92132"
      },
      "outputs": [
        {
          "data": {
            "text/html": [
              "300.003 kelvin"
            ],
            "text/latex": [
              "$300.003\\ \\mathrm{kelvin}$"
            ],
            "text/plain": [
              "<Quantity(300.003, 'kelvin')>"
            ]
          },
          "execution_count": 55,
          "metadata": {},
          "output_type": "execute_result"
        }
      ],
      "source": [
        "T += 3 * si.mK\n",
        "T"
      ]
    },
    {
      "cell_type": "code",
      "execution_count": null,
      "metadata": {
        "colab": {
          "base_uri": "https://localhost:8080/",
          "height": 34
        },
        "id": "NsdumTiP9iXJ",
        "outputId": "9c353c62-09cc-403f-c414-ca96926555c5"
      },
      "outputs": [
        {
          "data": {
            "text/html": [
              "1000 hectopascal"
            ],
            "text/latex": [
              "$1000\\ \\mathrm{hectopascal}$"
            ],
            "text/plain": [
              "<Quantity(1000, 'hectopascal')>"
            ]
          },
          "execution_count": 56,
          "metadata": {},
          "output_type": "execute_result"
        }
      ],
      "source": [
        "p = 1_000 *si.hPa\n",
        "p"
      ]
    },
    {
      "cell_type": "code",
      "execution_count": null,
      "metadata": {
        "id": "c74AVLh-_KlZ"
      },
      "outputs": [],
      "source": [
        "from scipy import constants"
      ]
    },
    {
      "cell_type": "code",
      "execution_count": null,
      "metadata": {
        "colab": {
          "base_uri": "https://localhost:8080/",
          "height": 34
        },
        "id": "mLg3Zs5y_d_U",
        "outputId": "0c5c4a1c-24ed-472b-ecb1-7bf33c5009db"
      },
      "outputs": [
        {
          "data": {
            "text/html": [
              "8.314462618 joule/(kelvin mole)"
            ],
            "text/latex": [
              "$8.314462618\\ \\frac{\\mathrm{joule}}{\\left(\\mathrm{kelvin} \\cdot \\mathrm{mole}\\right)}$"
            ],
            "text/plain": [
              "<Quantity(8.31446262, 'joule / kelvin / mole')>"
            ]
          },
          "execution_count": 70,
          "metadata": {},
          "output_type": "execute_result"
        }
      ],
      "source": [
        "R_str = constants.R * si.joule / si.kelvin / si.mole\n",
        "R_str"
      ]
    },
    {
      "cell_type": "code",
      "execution_count": null,
      "metadata": {
        "colab": {
          "base_uri": "https://localhost:8080/",
          "height": 34
        },
        "id": "QDKcjH3mAFFj",
        "outputId": "e0b54953-0316-490b-890f-7618d2bbba5a"
      },
      "outputs": [
        {
          "data": {
            "text/html": [
              "28.966 kilogram/kilomole"
            ],
            "text/latex": [
              "$28.966\\ \\frac{\\mathrm{kilogram}}{\\mathrm{kilomole}}$"
            ],
            "text/plain": [
              "<Quantity(28.966, 'kilogram / kilomole')>"
            ]
          },
          "execution_count": 71,
          "metadata": {},
          "output_type": "execute_result"
        }
      ],
      "source": [
        "md = 28.966 * si.kilogram / si.kmol\n",
        "md"
      ]
    },
    {
      "cell_type": "code",
      "execution_count": null,
      "metadata": {
        "colab": {
          "base_uri": "https://localhost:8080/",
          "height": 34
        },
        "id": "6ywdIPEeAqJH",
        "outputId": "248be6ed-484a-494c-9ca1-8f1ed55387c2"
      },
      "outputs": [
        {
          "data": {
            "text/html": [
              "292.15 kelvin"
            ],
            "text/latex": [
              "$292.15\\ \\mathrm{kelvin}$"
            ],
            "text/plain": [
              "<Quantity(292.15, 'kelvin')>"
            ]
          },
          "execution_count": 72,
          "metadata": {},
          "output_type": "execute_result"
        }
      ],
      "source": [
        "T = (19 +constants.zero_Celsius) * si.K\n",
        "T"
      ]
    },
    {
      "cell_type": "code",
      "execution_count": null,
      "metadata": {
        "colab": {
          "base_uri": "https://localhost:8080/"
        },
        "id": "QjnUEXorD7dP",
        "outputId": "72d7b02f-e152-468c-fb75-c515ba2d3a35"
      },
      "outputs": [
        {
          "data": {
            "text/plain": [
              "(<Quantity(1000, 'hectopascal')>,\n",
              " <Quantity(28.966, 'kilogram / kilomole')>,\n",
              " <Quantity(8.31446262, 'joule / kelvin / mole')>,\n",
              " <Quantity(292.15, 'kelvin')>)"
            ]
          },
          "execution_count": 73,
          "metadata": {},
          "output_type": "execute_result"
        }
      ],
      "source": [
        "p,md,R_str,T"
      ]
    },
    {
      "cell_type": "code",
      "execution_count": null,
      "metadata": {
        "colab": {
          "base_uri": "https://localhost:8080/",
          "height": 34
        },
        "id": "LdiC5QQrBQoK",
        "outputId": "23984267-828b-46a8-e4b5-d6db2d28d1c5"
      },
      "outputs": [
        {
          "data": {
            "text/html": [
              "11.924727147806987 hectopascal kilogram mole/(joule kilomole)"
            ],
            "text/latex": [
              "$11.924727147806987\\ \\frac{\\mathrm{hectopascal} \\cdot \\mathrm{kilogram} \\cdot \\mathrm{mole}}{\\left(\\mathrm{joule} \\cdot \\mathrm{kilomole}\\right)}$"
            ],
            "text/plain": [
              "<Quantity(11.9247271, 'hectopascal * kilogram * mole / kilomole / joule')>"
            ]
          },
          "execution_count": 74,
          "metadata": {},
          "output_type": "execute_result"
        }
      ],
      "source": [
        "density = p * md / (R_str * T)\n",
        "density"
      ]
    },
    {
      "cell_type": "code",
      "execution_count": null,
      "metadata": {
        "colab": {
          "base_uri": "https://localhost:8080/"
        },
        "id": "7LcID1Y-BjBu",
        "outputId": "34e67cd1-c21e-423b-cdf7-ecd9192f910b"
      },
      "outputs": [
        {
          "data": {
            "text/plain": [
              "True"
            ]
          },
          "execution_count": 75,
          "metadata": {},
          "output_type": "execute_result"
        }
      ],
      "source": [
        "density.check('[density]')"
      ]
    },
    {
      "cell_type": "code",
      "execution_count": null,
      "metadata": {
        "colab": {
          "base_uri": "https://localhost:8080/",
          "height": 37
        },
        "id": "jR0ihVFrCMEU",
        "outputId": "af148764-f9b8-402f-d1c1-ca98eec676b3"
      },
      "outputs": [
        {
          "data": {
            "text/html": [
              "1.1924727147806988 kilogram/meter<sup>3</sup>"
            ],
            "text/latex": [
              "$1.1924727147806988\\ \\frac{\\mathrm{kilogram}}{\\mathrm{meter}^{3}}$"
            ],
            "text/plain": [
              "<Quantity(1.19247271, 'kilogram / meter ** 3')>"
            ]
          },
          "execution_count": 76,
          "metadata": {},
          "output_type": "execute_result"
        }
      ],
      "source": [
        "density.to_base_units()"
      ]
    },
    {
      "cell_type": "markdown",
      "metadata": {
        "id": "cghQL5zfEh6x"
      },
      "source": [
        "---"
      ]
    },
    {
      "cell_type": "code",
      "execution_count": null,
      "metadata": {
        "id": "DsM13MHJCXcn"
      },
      "outputs": [],
      "source": [
        "import pint\n",
        "import numpy as np\n",
        "from scipy import constants\n",
        "\n",
        "def tetens(T: pint.Quantity) -> pint.Quantity:\n",
        "  \"\"\"Calculates saturation vapor pressure using the Tetens formula.\n",
        "\n",
        "  Args:\n",
        "    T: Temperature in Kelvin.\n",
        "\n",
        "  Returns:\n",
        "    Saturation vapor pressure in Pascals.\n",
        "  \"\"\"\n",
        "  e_s = 6.1078 * si.hPa * (np.exp((17.27 * (T - 273.15 * si.K)) / (T + 237.3 * si.K)))\n",
        "  return e_s\n"
      ]
    },
    {
      "cell_type": "code",
      "execution_count": null,
      "metadata": {
        "colab": {
          "base_uri": "https://localhost:8080/",
          "height": 34
        },
        "id": "-51I4tBnFocP",
        "outputId": "718eac9f-8f6d-48e5-8d7e-3f7c738c2a85"
      },
      "outputs": [
        {
          "data": {
            "text/html": [
              "11.351194649013397 hectopascal"
            ],
            "text/latex": [
              "$11.351194649013397\\ \\mathrm{hectopascal}$"
            ],
            "text/plain": [
              "<Quantity(11.3511946, 'hectopascal')>"
            ]
          },
          "execution_count": 96,
          "metadata": {},
          "output_type": "execute_result"
        }
      ],
      "source": [
        "tetens(T)"
      ]
    },
    {
      "cell_type": "code",
      "execution_count": null,
      "metadata": {
        "id": "RgDy3rgqFwHb"
      },
      "outputs": [],
      "source": [
        "from matplotlib import pyplot as plt\n",
        "from open_atmos_jupyter_utils import show_plot"
      ]
    },
    {
      "cell_type": "code",
      "execution_count": null,
      "metadata": {
        "id": "zFMcqf1qIh0C"
      },
      "outputs": [],
      "source": [
        "si.setup_matplotlib()"
      ]
    },
    {
      "cell_type": "code",
      "execution_count": null,
      "metadata": {},
      "outputs": [],
      "source": [
        "WoooW = np.linspace(273.15, 373.15, 100) * si.K\n",
        "def plot(fig):\n",
        "    fig.gca().plot(WoooW, tetens(WoooW), label='equilibrium vapour pressure')\n",
        "    fig.legend()\n",
        "    fig.gca().grid()"
      ]
    },
    {
      "cell_type": "code",
      "execution_count": null,
      "metadata": {},
      "outputs": [],
      "source": [
        "fig = plt.figure(figsize=(4,4))\n",
        "plot(fig)\n",
        "show_plot(fig=fig)"
      ]
    },
    {
      "cell_type": "code",
      "execution_count": null,
      "metadata": {
        "colab": {
          "base_uri": "https://localhost:8080/",
          "height": 449
        },
        "id": "s6GyEtkyIoGs",
        "outputId": "e6c6efe7-d03c-4d14-9057-89153b7662c5"
      },
      "outputs": [
        {
          "data": {
            "image/png": "[encoded data removed]",
            "text/plain": [
              "<Figure size 640x480 with 1 Axes>"
            ]
          },
          "metadata": {},
          "output_type": "display_data"
        }
      ],
      "source": [
        "\n",
        "plt.plot(WoooW,tetens(WoooW))\n",
        "plt.xlabel('Temperature')\n",
        "plt.ylabel('Vapor Pressure')\n"
      ]
    },
    {
      "cell_type": "code",
      "execution_count": null,
      "metadata": {
        "id": "QZbZvTHMJ0ah"
      },
      "outputs": [],
      "source": []
    }
  ],
  "metadata": {
    "colab": {
      "provenance": []
    },
    "kernelspec": {
      "display_name": "Python 3",
      "name": "python3"
    },
    "language_info": {
      "name": "python"
    }
  },
  "nbformat": 4,
  "nbformat_minor": 0
}
